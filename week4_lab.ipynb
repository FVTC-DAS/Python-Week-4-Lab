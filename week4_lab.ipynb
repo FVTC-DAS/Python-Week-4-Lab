{
 "cells": [
  {
   "cell_type": "markdown",
   "metadata": {},
   "source": [
    "# Week 4 Lab: Conditional Logic\n",
    "\n",
    "This lab gives you practice with conditional logic, logical operators, and user input.\n",
    "\n",
    "**Instructions:** Complete each task in the blank code cell that follows its instructions. Test your code with different values.\n"
   ]
  },
  {
   "cell_type": "markdown",
   "metadata": {},
   "source": [
    "## Task 1: Age Group Classifier\n",
    "1. Create a variable `age` and assign it an integer value.\n",
    "2. Write an `if-elif-else` chain that prints whether the person is a:\n",
    "   - **Child** (under 13)\n",
    "   - **Teenager** (13–19)\n",
    "   - **Adult** (20–64)\n",
    "   - **Senior** (65+)\n",
    "3. Test your code by changing the value of `age` and re-running the cell.\n"
   ]
  },
  {
   "cell_type": "code",
   "execution_count": null,
   "metadata": {},
   "outputs": [],
   "source": []
  },
  {
   "cell_type": "markdown",
   "metadata": {},
   "source": [
    "## Task 2: Login Simulator\n",
    "1. Create two variables, `correct_username` and `correct_password`, and assign them string values.\n",
    "2. Use `input()` to ask the user for a username and a password.\n",
    "3. Write an `if` statement that uses the `and` operator to check if **both** the entered username and password match the correct ones.\n",
    "4. If they match, print `Login successful!`. Otherwise, print `Incorrect username or password.`\n"
   ]
  },
  {
   "cell_type": "code",
   "execution_count": null,
   "metadata": {},
   "outputs": [],
   "source": []
  },
  {
   "cell_type": "markdown",
   "metadata": {},
   "source": [
    "## Task 3: Even or Odd\n",
    "1. Use `input()` to ask the user for an integer. Convert the input to an `int`.\n",
    "2. Use the modulo operator (`%`) to check if the number is even or odd. *(Hint: a number is even if `number % 2 == 0`.)*\n",
    "3. Print whether the number is `Even` or `Odd`.\n"
   ]
  },
  {
   "cell_type": "code",
   "execution_count": null,
   "metadata": {},
   "outputs": [],
   "source": []
  },
  {
   "cell_type": "markdown",
   "metadata": {},
   "source": [
    "## Submission Instructions\n",
    "1. Save your `week4_lab.ipynb` file.\n",
    "2. Use the VS Code **Source Control** panel to stage, commit (with a message like `feat: Complete Week 4 lab`), and sync your changes.\n",
    "3. Submit the link to your GitHub repository on Blackboard.\n"
   ]
  }
 ],
 "metadata": {
  "kernelspec": {
   "display_name": "Python 3",
   "language": "python",
   "name": "python3"
  },
  "language_info": {
   "name": "python",
   "version": "3.x"
  }
 },
 "nbformat": 4,
 "nbformat_minor": 5
}